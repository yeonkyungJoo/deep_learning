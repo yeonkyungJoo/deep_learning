{
 "cells": [
  {
   "cell_type": "markdown",
   "metadata": {},
   "source": [
    "### CNN(Convolutional Neural Network : 합성곱 신경망)\n",
    "\n",
    "- 입력 데이터인 이미지의 성질을 이용해서 파라미터의 수를 줄인다\n",
    "- 반복되는 합성곱 층과 풀링 층\n",
    "    - 합성곱 층 : 이미지에 커널(필터)을 적용해서 이미지의 특징량을 추출하는 역할을 담당하는 층\n",
    "        - 최적화가 필요한 가중치 파라미터의 수는 이미지의 크기가 아닌 필터의 크기에 의존하므로 MLP와 달리 이미지의 크기가 커져도 파라미터는 증가하지 않는다\n",
    "    - 풀링 층 : 이미지를 축소하는 것 같은 층, 작은 변화에 민감하게 반응하지 않게 하는(Robust) 역할 담당"
   ]
  },
  {
   "cell_type": "code",
   "execution_count": 1,
   "metadata": {},
   "outputs": [
    {
     "name": "stderr",
     "output_type": "stream",
     "text": [
      "C:\\Users\\User\\Anaconda3\\lib\\site-packages\\h5py\\__init__.py:36: FutureWarning: Conversion of the second argument of issubdtype from `float` to `np.floating` is deprecated. In future, it will be treated as `np.float64 == np.dtype(float).type`.\n",
      "  from ._conv import register_converters as _register_converters\n"
     ]
    },
    {
     "name": "stdout",
     "output_type": "stream",
     "text": [
      "Downloading data from https://www.cs.toronto.edu/~kriz/cifar-10-python.tar.gz\n",
      "170500096/170498071 [==============================] - 144s 1us/step\n"
     ]
    }
   ],
   "source": [
    "# 데이터 임포트\n",
    "\n",
    "from tensorflow.python.keras.datasets import cifar10\n",
    "(x_train, y_train), (x_test, y_test) = cifar10.load_data()"
   ]
  },
  {
   "cell_type": "code",
   "execution_count": 8,
   "metadata": {},
   "outputs": [
    {
     "data": {
      "text/plain": [
       "array([[6],\n",
       "       [9],\n",
       "       [9],\n",
       "       ...,\n",
       "       [9],\n",
       "       [1],\n",
       "       [1]], dtype=uint8)"
      ]
     },
     "execution_count": 8,
     "metadata": {},
     "output_type": "execute_result"
    }
   ],
   "source": [
    "y_train"
   ]
  },
  {
   "cell_type": "code",
   "execution_count": 9,
   "metadata": {},
   "outputs": [
    {
     "data": {
      "text/plain": [
       "((50000, 32, 32, 3), (50000, 1), (10000, 32, 32, 3), (10000, 1))"
      ]
     },
     "execution_count": 9,
     "metadata": {},
     "output_type": "execute_result"
    }
   ],
   "source": [
    "# 모델이 다루기 쉬운 크기로 데이터 변형\n",
    "\n",
    "# 임포트한 데이터 크기 확인\n",
    "x_train.shape, y_train.shape, x_test.shape, y_test.shape"
   ]
  },
  {
   "cell_type": "code",
   "execution_count": 10,
   "metadata": {},
   "outputs": [],
   "source": [
    "# 데이터의 스케일 변환과 클래스 레이블을 원-핫벡터로 변환\n",
    "from tensorflow.python.keras.utils import to_categorical\n",
    "\n",
    "# 특징량 정규화\n",
    "x_train = x_train/255.\n",
    "x_test = x_test/255.\n",
    "\n",
    "# 클래스 레이블을 원-핫벡터화\n",
    "y_train = to_categorical(y_train, 10)\n",
    "y_test = to_categorical(y_test, 10)"
   ]
  },
  {
   "cell_type": "code",
   "execution_count": 11,
   "metadata": {},
   "outputs": [
    {
     "data": {
      "text/plain": [
       "array([[0., 0., 0., ..., 0., 0., 0.],\n",
       "       [0., 0., 0., ..., 0., 0., 1.],\n",
       "       [0., 0., 0., ..., 0., 0., 1.],\n",
       "       ...,\n",
       "       [0., 0., 0., ..., 0., 0., 1.],\n",
       "       [0., 1., 0., ..., 0., 0., 0.],\n",
       "       [0., 1., 0., ..., 0., 0., 0.]], dtype=float32)"
      ]
     },
     "execution_count": 11,
     "metadata": {},
     "output_type": "execute_result"
    }
   ],
   "source": [
    "y_train"
   ]
  },
  {
   "cell_type": "code",
   "execution_count": null,
   "metadata": {},
   "outputs": [],
   "source": []
  },
  {
   "cell_type": "code",
   "execution_count": 12,
   "metadata": {},
   "outputs": [],
   "source": [
    "# 모델 구축 준비\n",
    "from tensorflow.python.keras.models import Sequential\n",
    "\n",
    "model = Sequential()"
   ]
  },
  {
   "cell_type": "code",
   "execution_count": 14,
   "metadata": {},
   "outputs": [
    {
     "name": "stdout",
     "output_type": "stream",
     "text": [
      "WARNING:tensorflow:From C:\\Users\\User\\Anaconda3\\lib\\site-packages\\tensorflow\\python\\ops\\resource_variable_ops.py:435: colocate_with (from tensorflow.python.framework.ops) is deprecated and will be removed in a future version.\n",
      "Instructions for updating:\n",
      "Colocations handled automatically by placer.\n"
     ]
    }
   ],
   "source": [
    "# 합성곱 층 추가\n",
    "\n",
    "# MLP에서는 네트워크 구축에 Dense 레이어를 사용했지만, \n",
    "# CNN의 합성곱 층은 Conv2D 레이어를 사용한다\n",
    "\n",
    "from tensorflow.python.keras.layers import Conv2D\n",
    "\n",
    "model.add(\n",
    "    Conv2D(\n",
    "        filters = 32,           # filters : 출력의 채널 수(특징맵의 수)\n",
    "        input_shape = (32, 32, 3),\n",
    "        kernel_size = (3, 3),   # kernel_size : 커널의 크기\n",
    "        strides = (1, 1),       # strides : 커널을 옆으로 이동시키는 폭\n",
    "        padding = 'same',       # 제로 패딩(입력과 출력의 크기를 같게 하고 싶은 경우)\n",
    "        activation = 'relu'\n",
    "    )\n",
    ")\n",
    "\n",
    "model.add(\n",
    "    Conv2D(\n",
    "        filters = 32,\n",
    "        kernel_size = (3, 3),\n",
    "        strides = (1, 1),\n",
    "        padding = 'same',\n",
    "        activation = 'relu'\n",
    "    )\n",
    ")"
   ]
  },
  {
   "cell_type": "code",
   "execution_count": 15,
   "metadata": {},
   "outputs": [],
   "source": [
    "# 풀링 층 추가\n",
    "from tensorflow.python.keras.layers import MaxPooling2D\n",
    "\n",
    "# 2x2 크기의 최대풀링 층 추가\n",
    "model.add(MaxPooling2D(pool_size = (2, 2)))"
   ]
  },
  {
   "cell_type": "code",
   "execution_count": 16,
   "metadata": {},
   "outputs": [
    {
     "name": "stdout",
     "output_type": "stream",
     "text": [
      "WARNING:tensorflow:From C:\\Users\\User\\Anaconda3\\lib\\site-packages\\tensorflow\\python\\keras\\layers\\core.py:143: calling dropout (from tensorflow.python.ops.nn_ops) with keep_prob is deprecated and will be removed in a future version.\n",
      "Instructions for updating:\n",
      "Please use `rate` instead of `keep_prob`. Rate should be set to `rate = 1 - keep_prob`.\n"
     ]
    }
   ],
   "source": [
    "# 드롭아웃층 추가\n",
    "# 드롭아웃 : 한 층의 뉴런 중 몇 개를 임의로 무효화해서 학습을 진행하는 것\n",
    "#            파라미터가 많고 표현력이 높은 네트워크의 자유도를 억제\n",
    "#            → 모델의 강건성을 높인다\n",
    "\n",
    "from tensorflow.python.keras.layers import Dropout\n",
    "\n",
    "# 학습할 때 뉴런의 0.25를 임의로 무효화\n",
    "model.add(Dropout(0.25))"
   ]
  },
  {
   "cell_type": "code",
   "execution_count": 17,
   "metadata": {},
   "outputs": [],
   "source": [
    "# 합성곱 층과 풀링 층 추가\n",
    "\n",
    "model.add(\n",
    "    Conv2D(\n",
    "        filters = 64,\n",
    "        kernel_size = (3, 3),\n",
    "        strides = (1, 1),\n",
    "        padding = 'same',\n",
    "        activation = 'relu'\n",
    "    )\n",
    ")\n",
    "\n",
    "model.add(\n",
    "    Conv2D(\n",
    "        filters = 64,\n",
    "        kernel_size = (3, 3),\n",
    "        strides = (1, 1),\n",
    "        padding = 'same',\n",
    "        activation = 'relu'\n",
    "    )\n",
    ")\n",
    "\n",
    "model.add(MaxPooling2D(pool_size = (2, 2)))\n",
    "model.add(Dropout(0.25))"
   ]
  },
  {
   "cell_type": "code",
   "execution_count": null,
   "metadata": {},
   "outputs": [],
   "source": [
    "# 완전연결 계층 추가\n",
    "\n",
    "# 그러나 합성곱 층과 풀링 층의 출력은 형식이 다르기 때문에\n",
    "# 완전연결 계층에 직접 입력할 수 없다"
   ]
  },
  {
   "cell_type": "code",
   "execution_count": 18,
   "metadata": {},
   "outputs": [
    {
     "data": {
      "text/plain": [
       "(None, 8, 8, 64)"
      ]
     },
     "execution_count": 18,
     "metadata": {},
     "output_type": "execute_result"
    }
   ],
   "source": [
    "# 풀링 층을 추가한 후의 모델의 출력 형식 확인\n",
    "\n",
    "# (None, 8, 8, 64)\n",
    "# → 4차원의 텐서 (데이터 수, 세로, 가로, 채널 수)\n",
    "model.output_shape"
   ]
  },
  {
   "cell_type": "code",
   "execution_count": null,
   "metadata": {},
   "outputs": [],
   "source": [
    "# 완전연결 계층은 2차원의 텐서만 입력으로 받는다\n",
    "# → 다차원의 텐서를 2차원의 텐서로 전개해주는 플래튼(Flatten) 층 추가 "
   ]
  },
  {
   "cell_type": "code",
   "execution_count": 19,
   "metadata": {},
   "outputs": [
    {
     "data": {
      "text/plain": [
       "(None, 4096)"
      ]
     },
     "execution_count": 19,
     "metadata": {},
     "output_type": "execute_result"
    }
   ],
   "source": [
    "# 플래튼 층 추가\n",
    "from tensorflow.python.keras.layers import Flatten\n",
    "\n",
    "model.add(Flatten())\n",
    "model.output_shape"
   ]
  },
  {
   "cell_type": "code",
   "execution_count": 20,
   "metadata": {},
   "outputs": [],
   "source": [
    "# 완전연결 계층 추가\n",
    "from tensorflow.python.keras.layers import Dense\n",
    "\n",
    "model.add(Dense(units=512, activation='relu'))\n",
    "model.add(Dropout(0.5))\n",
    "model.add(Dense(units=10, activation='softmax'))"
   ]
  },
  {
   "cell_type": "code",
   "execution_count": 21,
   "metadata": {},
   "outputs": [
    {
     "name": "stdout",
     "output_type": "stream",
     "text": [
      "Train on 40000 samples, validate on 10000 samples\n",
      "WARNING:tensorflow:From C:\\Users\\User\\Anaconda3\\lib\\site-packages\\tensorflow\\python\\ops\\math_ops.py:3066: to_int32 (from tensorflow.python.ops.math_ops) is deprecated and will be removed in a future version.\n",
      "Instructions for updating:\n",
      "Use tf.cast instead.\n",
      "Epoch 1/20\n",
      "40000/40000 [==============================] - 461s 12ms/sample - loss: 1.5709 - acc: 0.4249 - val_loss: 1.1908 - val_acc: 0.5686\n",
      "Epoch 2/20\n",
      "40000/40000 [==============================] - 441s 11ms/sample - loss: 1.1495 - acc: 0.5897 - val_loss: 1.0003 - val_acc: 0.6384\n",
      "Epoch 3/20\n",
      "40000/40000 [==============================] - 446s 11ms/sample - loss: 0.9931 - acc: 0.6479 - val_loss: 0.8547 - val_acc: 0.6993\n",
      "Epoch 4/20\n",
      "40000/40000 [==============================] - 439s 11ms/sample - loss: 0.8893 - acc: 0.6857 - val_loss: 0.7932 - val_acc: 0.7232\n",
      "Epoch 5/20\n",
      "40000/40000 [==============================] - 445s 11ms/sample - loss: 0.8210 - acc: 0.7122 - val_loss: 0.7932 - val_acc: 0.7229\n",
      "Epoch 6/20\n",
      "40000/40000 [==============================] - 449s 11ms/sample - loss: 0.7637 - acc: 0.7288 - val_loss: 0.7427 - val_acc: 0.7360\n",
      "Epoch 7/20\n",
      "40000/40000 [==============================] - 443s 11ms/sample - loss: 0.7177 - acc: 0.7460 - val_loss: 0.7179 - val_acc: 0.7513\n",
      "Epoch 8/20\n",
      "40000/40000 [==============================] - 441s 11ms/sample - loss: 0.6704 - acc: 0.7636 - val_loss: 0.7197 - val_acc: 0.7533\n",
      "Epoch 9/20\n",
      "40000/40000 [==============================] - 439s 11ms/sample - loss: 0.6394 - acc: 0.7737 - val_loss: 0.6816 - val_acc: 0.7673\n",
      "Epoch 10/20\n",
      "40000/40000 [==============================] - 435s 11ms/sample - loss: 0.6100 - acc: 0.7835 - val_loss: 0.7140 - val_acc: 0.7563\n",
      "Epoch 11/20\n",
      "40000/40000 [==============================] - 438s 11ms/sample - loss: 0.5833 - acc: 0.7948 - val_loss: 0.6708 - val_acc: 0.7700\n",
      "Epoch 12/20\n",
      "40000/40000 [==============================] - 478s 12ms/sample - loss: 0.5561 - acc: 0.8047 - val_loss: 0.6950 - val_acc: 0.7664\n",
      "Epoch 13/20\n",
      "40000/40000 [==============================] - 492s 12ms/sample - loss: 0.5334 - acc: 0.8108 - val_loss: 0.6683 - val_acc: 0.7735\n",
      "Epoch 14/20\n",
      "40000/40000 [==============================] - 506s 13ms/sample - loss: 0.5159 - acc: 0.8185 - val_loss: 0.6775 - val_acc: 0.7717\n",
      "Epoch 15/20\n",
      "40000/40000 [==============================] - 540s 14ms/sample - loss: 0.4899 - acc: 0.8261 - val_loss: 0.7084 - val_acc: 0.7690\n",
      "Epoch 16/20\n",
      "40000/40000 [==============================] - 532s 13ms/sample - loss: 0.4693 - acc: 0.8336 - val_loss: 0.6925 - val_acc: 0.7700\n",
      "Epoch 17/20\n",
      "40000/40000 [==============================] - 479s 12ms/sample - loss: 0.4525 - acc: 0.8389 - val_loss: 0.6910 - val_acc: 0.7757\n",
      "Epoch 18/20\n",
      "40000/40000 [==============================] - 521s 13ms/sample - loss: 0.4442 - acc: 0.8422 - val_loss: 0.7058 - val_acc: 0.7747\n",
      "Epoch 19/20\n",
      "40000/40000 [==============================] - 395s 10ms/sample - loss: 0.4279 - acc: 0.8504 - val_loss: 0.6922 - val_acc: 0.7750\n",
      "Epoch 20/20\n",
      "40000/40000 [==============================] - 387s 10ms/sample - loss: 0.4169 - acc: 0.8543 - val_loss: 0.7041 - val_acc: 0.7817\n"
     ]
    }
   ],
   "source": [
    "# 작성한 모델에 데이터 적용\n",
    "from tensorflow.python.keras.callbacks import TensorBoard\n",
    "\n",
    "model.compile(\n",
    "    optimizer = 'adam',\n",
    "    loss = 'categorical_crossentropy',\n",
    "    metrics = ['accuracy']\n",
    ")\n",
    "tsb = TensorBoard(log_dir = './logs')\n",
    "history_model1 = model.fit(\n",
    "    x_train,\n",
    "    y_train,\n",
    "    batch_size = 32,\n",
    "    epochs = 20,\n",
    "    validation_split = 0.2,\n",
    "    callbacks = [tsb]\n",
    ")"
   ]
  },
  {
   "cell_type": "code",
   "execution_count": null,
   "metadata": {},
   "outputs": [],
   "source": []
  },
  {
   "cell_type": "code",
   "execution_count": null,
   "metadata": {},
   "outputs": [],
   "source": []
  }
 ],
 "metadata": {
  "kernelspec": {
   "display_name": "Python 3",
   "language": "python",
   "name": "python3"
  },
  "language_info": {
   "codemirror_mode": {
    "name": "ipython",
    "version": 3
   },
   "file_extension": ".py",
   "mimetype": "text/x-python",
   "name": "python",
   "nbconvert_exporter": "python",
   "pygments_lexer": "ipython3",
   "version": "3.6.5"
  }
 },
 "nbformat": 4,
 "nbformat_minor": 2
}
