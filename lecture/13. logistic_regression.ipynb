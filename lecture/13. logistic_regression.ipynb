{
 "cells": [
  {
   "cell_type": "code",
   "execution_count": null,
   "metadata": {},
   "outputs": [],
   "source": [
    "# Logistic Regression Classifier"
   ]
  },
  {
   "cell_type": "code",
   "execution_count": 1,
   "metadata": {},
   "outputs": [
    {
     "name": "stderr",
     "output_type": "stream",
     "text": [
      "C:\\Users\\User\\Anaconda3\\lib\\site-packages\\h5py\\__init__.py:36: FutureWarning: Conversion of the second argument of issubdtype from `float` to `np.floating` is deprecated. In future, it will be treated as `np.float64 == np.dtype(float).type`.\n",
      "  from ._conv import register_converters as _register_converters\n"
     ]
    }
   ],
   "source": [
    "import tensorflow as tf\n",
    "tf.set_random_seed(777)"
   ]
  },
  {
   "cell_type": "code",
   "execution_count": 8,
   "metadata": {},
   "outputs": [],
   "source": [
    "x_data = [[1, 2], \n",
    "          [2, 3], \n",
    "          [3, 1], \n",
    "          [4, 3], \n",
    "          [5, 3], \n",
    "          [6, 2]]\n",
    "y_data = [[0], \n",
    "          [0], \n",
    "          [0], \n",
    "          [1], \n",
    "          [1], \n",
    "          [1]]"
   ]
  },
  {
   "cell_type": "code",
   "execution_count": 6,
   "metadata": {},
   "outputs": [],
   "source": [
    "# import numpy as np\n",
    "# np.array(x_data).shape, np.array(y_data).shape"
   ]
  },
  {
   "cell_type": "code",
   "execution_count": 10,
   "metadata": {},
   "outputs": [],
   "source": [
    "X = tf.placeholder(tf.float32, shape = [None, 2])\n",
    "Y = tf.placeholder(tf.float32, shape = [None, 1])"
   ]
  },
  {
   "cell_type": "code",
   "execution_count": 12,
   "metadata": {},
   "outputs": [
    {
     "name": "stdout",
     "output_type": "stream",
     "text": [
      "WARNING:tensorflow:From C:\\Users\\User\\Anaconda3\\lib\\site-packages\\tensorflow\\python\\framework\\op_def_library.py:263: colocate_with (from tensorflow.python.framework.ops) is deprecated and will be removed in a future version.\n",
      "Instructions for updating:\n",
      "Colocations handled automatically by placer.\n"
     ]
    }
   ],
   "source": [
    "W = tf.Variable(tf.random_normal([2, 1]), name = 'weight')\n",
    "b = tf.Variable(tf.random_normal([1]), name = 'bias')"
   ]
  },
  {
   "cell_type": "code",
   "execution_count": 13,
   "metadata": {},
   "outputs": [],
   "source": [
    "# Hypothesis using sigmoid\n",
    "# tf.div(1., 1. + tf.exp(tf.matmul(X, W)))\n",
    "hypothesis = tf.sigmoid(tf.matmul(X, W) + b)"
   ]
  },
  {
   "cell_type": "code",
   "execution_count": 14,
   "metadata": {},
   "outputs": [],
   "source": [
    "# cost/loss function\n",
    "cost = -tf.reduce_mean(Y * tf.log(hypothesis) + (1 - Y) * tf.log(1-hypothesis))"
   ]
  },
  {
   "cell_type": "code",
   "execution_count": 15,
   "metadata": {},
   "outputs": [],
   "source": [
    "train = tf.train.GradientDescentOptimizer(learning_rate=0.01).minimize(cost)"
   ]
  },
  {
   "cell_type": "code",
   "execution_count": null,
   "metadata": {},
   "outputs": [],
   "source": []
  },
  {
   "cell_type": "code",
   "execution_count": 16,
   "metadata": {},
   "outputs": [],
   "source": [
    "# Accuracy computaion\n",
    "# True if hypothesis > 0.5 else False\n",
    "predicted = tf.cast(hypothesis > 0.5, dtype = tf.float32)\n",
    "accuracy = tf.reduce_mean(tf.cast(tf.equal(predicted, Y), dtype = tf.float32))"
   ]
  },
  {
   "cell_type": "code",
   "execution_count": 17,
   "metadata": {},
   "outputs": [
    {
     "name": "stdout",
     "output_type": "stream",
     "text": [
      "0 0.49477077\n",
      "200 0.3829812\n",
      "400 0.36979938\n",
      "600 0.35771975\n",
      "800 0.34646463\n",
      "1000 0.33588037\n",
      "1200 0.3258737\n",
      "1400 0.3163839\n",
      "1600 0.30736664\n",
      "1800 0.2987878\n",
      "2000 0.2906182\n",
      "2200 0.2828328\n",
      "2400 0.27540872\n",
      "2600 0.26832488\n",
      "2800 0.2615617\n",
      "3000 0.25510097\n",
      "3200 0.24892549\n",
      "3400 0.24301916\n",
      "3600 0.23736691\n",
      "3800 0.2319545\n",
      "4000 0.22676872\n",
      "4200 0.22179691\n",
      "4400 0.21702743\n",
      "4600 0.2124492\n",
      "4800 0.20805202\n",
      "5000 0.20382613\n",
      "5200 0.19976257\n",
      "5400 0.19585276\n",
      "5600 0.19208868\n",
      "5800 0.1884629\n",
      "6000 0.18496835\n",
      "6200 0.18159853\n",
      "6400 0.17834713\n",
      "6600 0.17520846\n",
      "6800 0.1721769\n",
      "7000 0.16924731\n",
      "7200 0.16641502\n",
      "7400 0.16367531\n",
      "7600 0.16102391\n",
      "7800 0.15845685\n",
      "8000 0.15597016\n",
      "8200 0.15356041\n",
      "8400 0.151224\n",
      "8600 0.14895795\n",
      "8800 0.14675905\n",
      "9000 0.14462449\n",
      "9200 0.14255156\n",
      "9400 0.14053766\n",
      "9600 0.1385804\n",
      "9800 0.13667749\n",
      "10000 0.1348267\n",
      "\n",
      "Hypothesis:  [[0.02481997]\n",
      " [0.14995232]\n",
      " [0.27514675]\n",
      " [0.7953092 ]\n",
      " [0.94801086]\n",
      " [0.9830358 ]] \n",
      "Correct (Y):  [[0.]\n",
      " [0.]\n",
      " [0.]\n",
      " [1.]\n",
      " [1.]\n",
      " [1.]] \n",
      "Accuracy:  1.0\n"
     ]
    }
   ],
   "source": [
    "# Launch graph\n",
    "with tf.Session() as sess :\n",
    "    sess.run(tf.global_variables_initializer())\n",
    "    \n",
    "    for step in range(10001) :\n",
    "        cost_val, _ = sess.run([cost, train], feed_dict = {X : x_data, Y : y_data})\n",
    "        if step % 200 == 0 :\n",
    "            print(step, cost_val)\n",
    "    \n",
    "    # Accuracy report\n",
    "    h, c, a = sess.run([hypothesis, predicted, accuracy], feed_dict = {X : x_data, Y : y_data})\n",
    "    print(\"\\nHypothesis: \", h, \"\\nCorrect (Y): \", c, \"\\nAccuracy: \", a)"
   ]
  },
  {
   "cell_type": "code",
   "execution_count": null,
   "metadata": {},
   "outputs": [],
   "source": []
  }
 ],
 "metadata": {
  "kernelspec": {
   "display_name": "Python 3",
   "language": "python",
   "name": "python3"
  },
  "language_info": {
   "codemirror_mode": {
    "name": "ipython",
    "version": 3
   },
   "file_extension": ".py",
   "mimetype": "text/x-python",
   "name": "python",
   "nbconvert_exporter": "python",
   "pygments_lexer": "ipython3",
   "version": "3.6.5"
  }
 },
 "nbformat": 4,
 "nbformat_minor": 2
}
