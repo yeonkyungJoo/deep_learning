{
 "cells": [
  {
   "cell_type": "code",
   "execution_count": null,
   "metadata": {},
   "outputs": [],
   "source": [
    "# Multi-variable linear regression"
   ]
  },
  {
   "cell_type": "code",
   "execution_count": 5,
   "metadata": {},
   "outputs": [],
   "source": [
    "import tensorflow as tf\n",
    "tf.set_random_seed(777)  # for reproducibility"
   ]
  },
  {
   "cell_type": "code",
   "execution_count": null,
   "metadata": {},
   "outputs": [],
   "source": [
    "# filename_queue = tf.train.string_input_producer([\"file0.csv\", \"file1.csv\"])\n",
    "# #string_input_producer가 queue를 생성하고\n",
    " \n",
    "# reader = tf.TextLineReader()\n",
    "# key, value = reader.read(filename_queue)\n",
    " \n",
    "# # Default values, in case of empty columns. Also specifies the type of the\n",
    "# # decoded result.\n",
    "# record_defaults = [[1], [1], [1], [1], [1]]\n",
    "# col1, col2, col3, col4, col5 = tf.decode_csv(value, record_defaults=record_defaults)\n",
    "# features = tf.stack([col1, col2, col3, col4])\n",
    " \n",
    "# with tf.Session() as sess:\n",
    "#   # Start populating the filename queue.\n",
    "#   coord = tf.train.Coordinator()\n",
    "#   threads = tf.train.start_queue_runners(coord=coord)\n",
    " \n",
    "#   for i in range(1200):\n",
    "#     # Retrieve a single instance:\n",
    "#     example, label = sess.run([features, col5])\n",
    " \n",
    "#   coord.request_stop()\n",
    "#   coord.join(threads)"
   ]
  },
  {
   "cell_type": "code",
   "execution_count": null,
   "metadata": {},
   "outputs": [],
   "source": [
    "# read의 각 실행은 파일로부터 한 줄을 읽습니다. \n",
    "# decode_csv는 결과를 tensor 목록으로 파싱합니다. \n",
    "# record_defaults 인자는 결과 tensor의 형식과 사용할 default value의 세트를 결정합니다. \n",
    "# record_defaults는 각 필드의 default값을 정해줄 뿐만 아니라 \n",
    "# 데이터 타입을 지정해주는 역할도 합니다. \n",
    "# 위의 코드를 실행시키면 csv의 각 행을 파싱하여 \n",
    "# 각 필드를 col1,2,3,4,5라는 필드에 리턴하게 됩니다.\n",
    "\n",
    "# 반드시 queue로부터 읽기 위해서 run, eval을 호출하기 전에 \n",
    "# tf.train.start_queue_runner를 큐를 채우기 위해서 호출해야 합니다. \n",
    "# 그렇지 않으면 read는 queue에 filename을 기다리는 동안 block 됩니다."
   ]
  },
  {
   "cell_type": "code",
   "execution_count": 28,
   "metadata": {},
   "outputs": [
    {
     "data": {
      "text/plain": [
       "<tensorflow.python.ops.data_flow_ops.FIFOQueue at 0x27c696d4ac8>"
      ]
     },
     "execution_count": 28,
     "metadata": {},
     "output_type": "execute_result"
    }
   ],
   "source": [
    "# 실제로 모델을 만들어서 학습을 할 때는 데이터의 양이 많기 때문에 \n",
    "# 메모리에 모두 적재하고 학습을 할 수가 없고\n",
    "# 파일에서 읽어들이면서 학습을 해야 한다\n",
    "# 즉, 파일에서 데이터를 읽어가면서 순차적으로 모델에 feeding => 큐 사용\n",
    "\n",
    "filename_queue = tf.train.string_input_producer(\n",
    "    ['data-01-test-score.csv'], shuffle=False, name='filename_queue')\n",
    "filename_queue"
   ]
  },
  {
   "cell_type": "code",
   "execution_count": 29,
   "metadata": {},
   "outputs": [],
   "source": [
    "reader = tf.TextLineReader()\n",
    "key, value = reader.read(filename_queue)\n",
    "# (<tf.Tensor 'ReaderReadV2:0' shape=() dtype=string>,\n",
    "#  <tf.Tensor 'ReaderReadV2:1' shape=() dtype=string>)"
   ]
  },
  {
   "cell_type": "code",
   "execution_count": 30,
   "metadata": {},
   "outputs": [],
   "source": [
    "record_defaults = [ [0.], [0.], [0.], [0.] ]\n",
    "xy = tf.decode_csv(value, record_defaults=record_defaults)\n",
    "# [<tf.Tensor 'DecodeCSV:0' shape=() dtype=float32>,\n",
    "#  <tf.Tensor 'DecodeCSV:1' shape=() dtype=float32>,\n",
    "#  <tf.Tensor 'DecodeCSV:2' shape=() dtype=float32>,\n",
    "#  <tf.Tensor 'DecodeCSV:3' shape=() dtype=float32>]"
   ]
  },
  {
   "cell_type": "code",
   "execution_count": 45,
   "metadata": {},
   "outputs": [],
   "source": [
    "# xy[0:-1], xy[-1:]\n",
    "# ([<tf.Tensor 'DecodeCSV_1:0' shape=() dtype=float32>,\n",
    "#   <tf.Tensor 'DecodeCSV_1:1' shape=() dtype=float32>,\n",
    "#   <tf.Tensor 'DecodeCSV_1:2' shape=() dtype=float32>],\n",
    "#  [<tf.Tensor 'DecodeCSV_1:3' shape=() dtype=float32>])\n",
    "\n",
    "train_x_batch, train_y_batch = tf.train.batch([xy[0:-1], xy[-1:]], batch_size=10)"
   ]
  },
  {
   "cell_type": "code",
   "execution_count": 46,
   "metadata": {},
   "outputs": [],
   "source": [
    "# placeholders for a tensor that will be always fed\n",
    "X = tf.placeholder(tf.float32, shape = [None, 3])\n",
    "Y = tf.placeholder(tf.float32, shape = [None, 1])"
   ]
  },
  {
   "cell_type": "code",
   "execution_count": 47,
   "metadata": {},
   "outputs": [],
   "source": [
    "W = tf.Variable(tf.random_normal([3, 1]), name = 'weight')\n",
    "b = tf.Variable(tf.random_normal([1]), name = 'bias')"
   ]
  },
  {
   "cell_type": "code",
   "execution_count": 48,
   "metadata": {},
   "outputs": [],
   "source": [
    "# Hypothesis\n",
    "hypothesis = tf.matmul(X, W) + b"
   ]
  },
  {
   "cell_type": "code",
   "execution_count": 49,
   "metadata": {},
   "outputs": [],
   "source": [
    "# Simplified cost/loss function\n",
    "cost = tf.reduce_mean(tf.square(hypothesis - Y))"
   ]
  },
  {
   "cell_type": "code",
   "execution_count": 50,
   "metadata": {},
   "outputs": [],
   "source": [
    "# Minimize\n",
    "optimizer = tf.train.GradientDescentOptimizer(learning_rate=1e-5)\n",
    "train = optimizer.minimize(cost)"
   ]
  },
  {
   "cell_type": "code",
   "execution_count": null,
   "metadata": {},
   "outputs": [],
   "source": []
  },
  {
   "cell_type": "code",
   "execution_count": 52,
   "metadata": {},
   "outputs": [],
   "source": [
    "# Launch the graph in a session\n",
    "sess = tf.Session()\n",
    "sess.run(tf.global_variables_initializer())\n",
    "\n",
    "# Start populating the filename queue\n",
    "coord = tf.train.Coordinator()\n",
    "threads = tf.train.start_queue_runners(sess = sess, coord = coord)\n",
    "\n",
    "for step in range(2001) :\n",
    "    x_batch, y_batch = sess.run([train_x_batch, train_y_batch])\n",
    "    # print(x_batch)\n",
    "    # print(y_batch)\n",
    "    cost_val, hy_val, _ = sess.run([cost, hypothesis, train], \n",
    "                                   feed_dict = {X : x_batch, Y : y_batch})\n",
    "#     if step % 10 == 0 :\n",
    "#         print(step, \"Cost: \", cost_val, \"\\nPrediction:\\n\", hy_val)\n",
    "\n",
    "coord.request_stop()\n",
    "coord.join(threads)"
   ]
  },
  {
   "cell_type": "code",
   "execution_count": 53,
   "metadata": {},
   "outputs": [
    {
     "name": "stdout",
     "output_type": "stream",
     "text": [
      "[[189.5634]]\n",
      "[[184.8686 ]\n",
      " [174.17464]]\n"
     ]
    }
   ],
   "source": [
    "print(sess.run(hypothesis, feed_dict={X: [[100, 70, 101]]}))\n",
    "print(sess.run(hypothesis, feed_dict={X: [[60, 70, 110], [90, 100, 80]]}))"
   ]
  }
 ],
 "metadata": {
  "kernelspec": {
   "display_name": "Python 3",
   "language": "python",
   "name": "python3"
  },
  "language_info": {
   "codemirror_mode": {
    "name": "ipython",
    "version": 3
   },
   "file_extension": ".py",
   "mimetype": "text/x-python",
   "name": "python",
   "nbconvert_exporter": "python",
   "pygments_lexer": "ipython3",
   "version": "3.6.5"
  }
 },
 "nbformat": 4,
 "nbformat_minor": 2
}
