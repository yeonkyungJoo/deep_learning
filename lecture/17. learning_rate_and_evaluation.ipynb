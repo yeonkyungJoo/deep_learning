{
 "cells": [
  {
   "cell_type": "code",
   "execution_count": 1,
   "metadata": {},
   "outputs": [
    {
     "name": "stderr",
     "output_type": "stream",
     "text": [
      "C:\\Users\\User\\Anaconda3\\lib\\site-packages\\h5py\\__init__.py:36: FutureWarning: Conversion of the second argument of issubdtype from `float` to `np.floating` is deprecated. In future, it will be treated as `np.float64 == np.dtype(float).type`.\n",
      "  from ._conv import register_converters as _register_converters\n"
     ]
    }
   ],
   "source": [
    "import tensorflow as tf\n",
    "tf.set_random_seed(777)"
   ]
  },
  {
   "cell_type": "code",
   "execution_count": 3,
   "metadata": {},
   "outputs": [],
   "source": [
    "x_data = [[1, 2, 1], \n",
    "          [1, 3, 2], \n",
    "          [1, 3, 4], \n",
    "          [1, 5, 5], \n",
    "          [1, 7, 5], \n",
    "          [1, 2, 5], \n",
    "          [1, 6, 6], \n",
    "          [1, 7, 7]]\n",
    "y_data = [[0, 0, 1], \n",
    "          [0, 0, 1], \n",
    "          [0, 0, 1], \n",
    "          [0, 1, 0], \n",
    "          [0, 1, 0], \n",
    "          [0, 1, 0], \n",
    "          [1, 0, 0], \n",
    "          [1, 0, 0]]"
   ]
  },
  {
   "cell_type": "code",
   "execution_count": 4,
   "metadata": {},
   "outputs": [
    {
     "name": "stdout",
     "output_type": "stream",
     "text": [
      "(8, 3) (8, 3)\n"
     ]
    }
   ],
   "source": [
    "import numpy as np\n",
    "print(np.array(x_data).shape, np.array(y_data).shape)"
   ]
  },
  {
   "cell_type": "code",
   "execution_count": 5,
   "metadata": {},
   "outputs": [],
   "source": [
    "# Evaluate our model using this test dataset\n",
    "x_test = [[2, 1, 1], \n",
    "          [3, 1, 2], \n",
    "          [3, 3, 4]]\n",
    "y_test = [[0, 0, 1], \n",
    "          [0, 0, 1], \n",
    "          [0, 0, 1]]"
   ]
  },
  {
   "cell_type": "code",
   "execution_count": 6,
   "metadata": {},
   "outputs": [
    {
     "name": "stdout",
     "output_type": "stream",
     "text": [
      "(3, 3) (3, 3)\n"
     ]
    }
   ],
   "source": [
    "print(np.array(x_test).shape, np.array(y_test).shape)"
   ]
  },
  {
   "cell_type": "code",
   "execution_count": null,
   "metadata": {},
   "outputs": [],
   "source": []
  },
  {
   "cell_type": "code",
   "execution_count": 7,
   "metadata": {},
   "outputs": [],
   "source": [
    "X = tf.placeholder(\"float\", [None, 3])\n",
    "Y = tf.placeholder(\"float\", [None, 3])"
   ]
  },
  {
   "cell_type": "code",
   "execution_count": 8,
   "metadata": {},
   "outputs": [
    {
     "name": "stdout",
     "output_type": "stream",
     "text": [
      "WARNING:tensorflow:From C:\\Users\\User\\Anaconda3\\lib\\site-packages\\tensorflow\\python\\framework\\op_def_library.py:263: colocate_with (from tensorflow.python.framework.ops) is deprecated and will be removed in a future version.\n",
      "Instructions for updating:\n",
      "Colocations handled automatically by placer.\n"
     ]
    }
   ],
   "source": [
    "W = tf.Variable(tf.random_normal([3, 3]))\n",
    "b = tf.Variable(tf.random_normal([3]))"
   ]
  },
  {
   "cell_type": "code",
   "execution_count": 9,
   "metadata": {},
   "outputs": [],
   "source": [
    "hypothesis = tf.nn.softmax(tf.matmul(X, W) + b)"
   ]
  },
  {
   "cell_type": "code",
   "execution_count": 10,
   "metadata": {},
   "outputs": [],
   "source": [
    "cost = tf.reduce_mean(-tf.reduce_sum(Y * tf.log(hypothesis), axis = 1))"
   ]
  },
  {
   "cell_type": "code",
   "execution_count": 19,
   "metadata": {},
   "outputs": [],
   "source": [
    "train = tf.train.GradientDescentOptimizer(learning_rate = 1.0).minimize(cost)"
   ]
  },
  {
   "cell_type": "code",
   "execution_count": null,
   "metadata": {},
   "outputs": [],
   "source": []
  },
  {
   "cell_type": "code",
   "execution_count": 20,
   "metadata": {},
   "outputs": [],
   "source": [
    "# Correct prediction Test model\n",
    "prediction = tf.argmax(hypothesis, 1)\n",
    "is_correct = tf.equal(prediction, tf.argmax(Y, 1))\n",
    "accuracy = tf.reduce_mean(tf.cast(is_correct, tf.float32))"
   ]
  },
  {
   "cell_type": "code",
   "execution_count": null,
   "metadata": {},
   "outputs": [],
   "source": []
  },
  {
   "cell_type": "code",
   "execution_count": 21,
   "metadata": {},
   "outputs": [
    {
     "name": "stdout",
     "output_type": "stream",
     "text": [
      "0 5.73203 [[ 0.06390554  1.0461044  -0.8459846 ]\n",
      " [-3.028856    1.4300685   2.4986644 ]\n",
      " [-1.9776635   1.1646577  -1.2388651 ]]\n",
      "50 3.9471197 [[-3.6428652  -0.818304    4.725195  ]\n",
      " [ 1.9954069  -2.5055754   1.4100466 ]\n",
      " [ 1.1329098  -0.29788077 -2.8869019 ]]\n",
      "100 5.1370263 [[-6.0651507   0.39654976  5.932626  ]\n",
      " [ 1.8737042   0.24304712 -1.2168727 ]\n",
      " [ 0.7495975   1.5118697  -4.313339  ]]\n",
      "150 9.1461735 [[-8.213901   1.4140018  7.063922 ]\n",
      " [ 1.0567447 -0.6311492  0.4742844]\n",
      " [ 0.5517032  0.6018462 -3.2054226]]\n",
      "200 8.280764 [[-10.081952     2.5785632    7.7674136 ]\n",
      " [  0.9974371   -0.43248463   0.33492696]\n",
      " [  1.3210105    0.22629225  -3.5991762 ]]\n",
      "Prediction :  [2 2 2]\n",
      "Accuracy :  1.0\n"
     ]
    }
   ],
   "source": [
    "# Launch graph\n",
    "with tf.Session() as sess :\n",
    "    sess.run(tf.global_variables_initializer())\n",
    "    \n",
    "    for step in range(201) :\n",
    "        cost_val, W_val, _ = sess.run([cost, W, train], \n",
    "                                      feed_dict = {X : x_data, Y : y_data})\n",
    "        if step % 50 == 0 :\n",
    "            print(step, cost_val, W_val)\n",
    "    \n",
    "    print(\"Prediction : \", sess.run(prediction, feed_dict = {X : x_test}))\n",
    "    print(\"Accuracy : \", sess.run(accuracy, feed_dict = {X : x_test, Y : y_test}))"
   ]
  },
  {
   "cell_type": "code",
   "execution_count": null,
   "metadata": {},
   "outputs": [],
   "source": [
    "# learning_rate = 1.5\n",
    "\n",
    "# 0 5.73203 [[-0.30548954  1.2298503  -0.66033536]\n",
    "#  [-4.3907      2.2967086   2.9938684 ]\n",
    "#  [-3.345107    2.0974321  -0.80419564]]\n",
    "# 50 nan [[nan nan nan]\n",
    "#  [nan nan nan]\n",
    "#  [nan nan nan]]\n",
    "# 100 nan [[nan nan nan]\n",
    "#  [nan nan nan]\n",
    "#  [nan nan nan]]\n",
    "# 150 nan [[nan nan nan]\n",
    "#  [nan nan nan]\n",
    "#  [nan nan nan]]\n",
    "# 200 nan [[nan nan nan]\n",
    "#  [nan nan nan]\n",
    "#  [nan nan nan]]\n",
    "# Prediction :  [0 0 0]\n",
    "# Accuracy :  0.0"
   ]
  },
  {
   "cell_type": "code",
   "execution_count": null,
   "metadata": {},
   "outputs": [],
   "source": [
    "# learning_rate = 1.0\n",
    "\n",
    "# 0 5.73203 [[ 0.06390554  1.0461044  -0.8459846 ]\n",
    "#  [-3.028856    1.4300685   2.4986644 ]\n",
    "#  [-1.9776635   1.1646577  -1.2388651 ]]\n",
    "# 50 3.9471197 [[-3.6428652  -0.818304    4.725195  ]\n",
    "#  [ 1.9954069  -2.5055754   1.4100466 ]\n",
    "#  [ 1.1329098  -0.29788077 -2.8869019 ]]\n",
    "# 100 5.1370263 [[-6.0651507   0.39654976  5.932626  ]\n",
    "#  [ 1.8737042   0.24304712 -1.2168727 ]\n",
    "#  [ 0.7495975   1.5118697  -4.313339  ]]\n",
    "# 150 9.1461735 [[-8.213901   1.4140018  7.063922 ]\n",
    "#  [ 1.0567447 -0.6311492  0.4742844]\n",
    "#  [ 0.5517032  0.6018462 -3.2054226]]\n",
    "# 200 8.280764 [[-10.081952     2.5785632    7.7674136 ]\n",
    "#  [  0.9974371   -0.43248463   0.33492696]\n",
    "#  [  1.3210105    0.22629225  -3.5991762 ]]\n",
    "# Prediction :  [2 2 2]\n",
    "# Accuracy :  1.0"
   ]
  },
  {
   "cell_type": "code",
   "execution_count": null,
   "metadata": {},
   "outputs": [],
   "source": [
    "# learning_rate = 0.1\n",
    "\n",
    "# 0 5.73203 [[ 0.7288166   0.7153621  -1.1801533 ]\n",
    "#  [-0.57753736 -0.12988332  1.6072978 ]\n",
    "#  [ 0.48373488 -0.51433605 -2.02127   ]]\n",
    "# 50 1.3068547 [[-0.03424712  0.6126727  -0.31440023]\n",
    "#  [-0.18752575 -0.19023973  1.2776425 ]\n",
    "#  [-0.18732947 -0.16467495 -1.6998668 ]]\n",
    "# 100 0.9537603 [[-0.52009284  0.45806164  0.32605675]\n",
    "#  [ 0.11236367 -0.04872466  0.836238  ]\n",
    "#  [-0.3214388  -0.27116382 -1.4592681 ]]\n",
    "# 150 0.76444477 [[-0.87777096  0.34463155  0.7971652 ]\n",
    "#  [ 0.2841537   0.10438942  0.5113338 ]\n",
    "#  [-0.36992022 -0.38639486 -1.2955555 ]]\n",
    "# 200 0.67090875 [[-1.1588541   0.28058422  1.1422957 ]\n",
    "#  [ 0.37609792  0.19073224  0.33304682]\n",
    "#  [-0.35536593 -0.44033223 -1.2561723 ]]\n",
    "# Prediction :  [2 2 2]\n",
    "# Accuracy :  1.0"
   ]
  },
  {
   "cell_type": "code",
   "execution_count": null,
   "metadata": {},
   "outputs": [],
   "source": []
  },
  {
   "cell_type": "code",
   "execution_count": null,
   "metadata": {},
   "outputs": [],
   "source": []
  }
 ],
 "metadata": {
  "kernelspec": {
   "display_name": "Python 3",
   "language": "python",
   "name": "python3"
  },
  "language_info": {
   "codemirror_mode": {
    "name": "ipython",
    "version": 3
   },
   "file_extension": ".py",
   "mimetype": "text/x-python",
   "name": "python",
   "nbconvert_exporter": "python",
   "pygments_lexer": "ipython3",
   "version": "3.6.5"
  }
 },
 "nbformat": 4,
 "nbformat_minor": 2
}
