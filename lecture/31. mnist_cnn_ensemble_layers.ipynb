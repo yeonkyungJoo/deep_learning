{
 "cells": [
  {
   "cell_type": "code",
   "execution_count": 1,
   "metadata": {},
   "outputs": [],
   "source": [
    "import tensorflow as tf\n",
    "import numpy as np"
   ]
  },
  {
   "cell_type": "code",
   "execution_count": 3,
   "metadata": {},
   "outputs": [],
   "source": [
    "from tensorflow.examples.tutorials.mnist import input_data"
   ]
  },
  {
   "cell_type": "code",
   "execution_count": 4,
   "metadata": {},
   "outputs": [],
   "source": [
    "tf.set_random_seed(777)"
   ]
  },
  {
   "cell_type": "code",
   "execution_count": 5,
   "metadata": {},
   "outputs": [
    {
     "name": "stdout",
     "output_type": "stream",
     "text": [
      "WARNING:tensorflow:From <ipython-input-5-1a516c502833>:1: read_data_sets (from tensorflow.contrib.learn.python.learn.datasets.mnist) is deprecated and will be removed in a future version.\n",
      "Instructions for updating:\n",
      "Please use alternatives such as official/mnist/dataset.py from tensorflow/models.\n",
      "WARNING:tensorflow:From C:\\Users\\User\\Anaconda3\\lib\\site-packages\\tensorflow\\contrib\\learn\\python\\learn\\datasets\\mnist.py:260: maybe_download (from tensorflow.contrib.learn.python.learn.datasets.base) is deprecated and will be removed in a future version.\n",
      "Instructions for updating:\n",
      "Please write your own downloading logic.\n",
      "WARNING:tensorflow:From C:\\Users\\User\\Anaconda3\\lib\\site-packages\\tensorflow\\contrib\\learn\\python\\learn\\datasets\\mnist.py:262: extract_images (from tensorflow.contrib.learn.python.learn.datasets.mnist) is deprecated and will be removed in a future version.\n",
      "Instructions for updating:\n",
      "Please use tf.data to implement this functionality.\n",
      "Extracting MNIST_data/train-images-idx3-ubyte.gz\n",
      "WARNING:tensorflow:From C:\\Users\\User\\Anaconda3\\lib\\site-packages\\tensorflow\\contrib\\learn\\python\\learn\\datasets\\mnist.py:267: extract_labels (from tensorflow.contrib.learn.python.learn.datasets.mnist) is deprecated and will be removed in a future version.\n",
      "Instructions for updating:\n",
      "Please use tf.data to implement this functionality.\n",
      "Extracting MNIST_data/train-labels-idx1-ubyte.gz\n",
      "WARNING:tensorflow:From C:\\Users\\User\\Anaconda3\\lib\\site-packages\\tensorflow\\contrib\\learn\\python\\learn\\datasets\\mnist.py:110: dense_to_one_hot (from tensorflow.contrib.learn.python.learn.datasets.mnist) is deprecated and will be removed in a future version.\n",
      "Instructions for updating:\n",
      "Please use tf.one_hot on tensors.\n",
      "Extracting MNIST_data/t10k-images-idx3-ubyte.gz\n",
      "Extracting MNIST_data/t10k-labels-idx1-ubyte.gz\n",
      "WARNING:tensorflow:From C:\\Users\\User\\Anaconda3\\lib\\site-packages\\tensorflow\\contrib\\learn\\python\\learn\\datasets\\mnist.py:290: DataSet.__init__ (from tensorflow.contrib.learn.python.learn.datasets.mnist) is deprecated and will be removed in a future version.\n",
      "Instructions for updating:\n",
      "Please use alternatives such as official/mnist/dataset.py from tensorflow/models.\n"
     ]
    }
   ],
   "source": [
    "mnist = input_data.read_data_sets(\"MNIST_data/\", one_hot = True)"
   ]
  },
  {
   "cell_type": "code",
   "execution_count": 6,
   "metadata": {},
   "outputs": [],
   "source": [
    "# hyper parameters\n",
    "learning_rate = 0.001\n",
    "training_epochs = 20\n",
    "batch_size = 100"
   ]
  },
  {
   "cell_type": "code",
   "execution_count": 26,
   "metadata": {},
   "outputs": [],
   "source": [
    "class Model :\n",
    "    def __init__(self, sess, name) :\n",
    "        self.sess = sess\n",
    "        self.name = name\n",
    "        self._build_net()\n",
    "        \n",
    "    def _build_net(self) :\n",
    "        with tf.variable_scope(self.name) :\n",
    "            \n",
    "            self.training = tf.placeholder(tf.bool)\n",
    "            \n",
    "            self.X = tf.placeholder(tf.float32, [None, 784])\n",
    "            X_img = tf.reshape(self.X, [-1, 28, 28, 1])\n",
    "            self.Y = tf.placeholder(tf.float32, [None, 10])\n",
    "            \n",
    "            # Layer1\n",
    "            conv1 = tf.layers.conv2d(inputs = X_img, filters = 32, \n",
    "                                     kernel_size = [3, 3], padding = 'SAME', activation = tf.nn.relu)\n",
    "            pool1 = tf.layers.max_pooling2d(inputs = conv1, pool_size = [2, 2], padding = 'SAME', strides = 2)\n",
    "            dropout1 = tf.layers.dropout(inputs = pool1, rate = 0.3, training = self.training)\n",
    "            \n",
    "            # Layer2\n",
    "            conv2 = tf.layers.conv2d(inputs = dropout1, filters = 64, kernel_size = [3, 3], padding = 'SAME', activation = tf.nn.relu)\n",
    "            pool2 = tf.layers.max_pooling2d(inputs = conv2, pool_size = [2, 2], padding = 'SAME', strides = 2)\n",
    "            dropout2 = tf.layers.dropout(inputs = pool2, rate = 0.3, training = self.training)\n",
    "            \n",
    "            # Layer3\n",
    "            conv3 = tf.layers.conv2d(inputs = dropout2, filters= 128, kernel_size = [3, 3], padding = 'SAME', activation = tf.nn.relu)\n",
    "            pool3 = tf.layers.max_pooling2d(inputs = conv3, pool_size = [2, 2], padding = 'SAME', strides = 2)\n",
    "            dropout3 = tf.layers.dropout(inputs = pool3, rate = 0.3, training = self.training)\n",
    "            \n",
    "            # Dense Layer with Relu\n",
    "            flat = tf.reshape(dropout3, [-1, 128 * 4 * 4])\n",
    "            dense4 = tf.layers.dense(inputs = flat, units = 625, activation = tf.nn.relu)\n",
    "            dropout4 = tf.layers.dropout(inputs = dense4, rate = 0.5, training = self.training)\n",
    "            \n",
    "            # Logits (no activation) Layer\n",
    "            self.logits = tf.layers.dense(inputs = dropout4, units = 10)\n",
    "            \n",
    "        # define cost/loss & optimizer\n",
    "        self.cost = tf.reduce_mean(tf.nn.softmax_cross_entropy_with_logits(logits = self.logits, labels = self.Y))\n",
    "        self.optimizer = tf.train.AdamOptimizer(learning_rate = learning_rate).minimize(self.cost)\n",
    "        \n",
    "        correct_prediction = tf.equal(tf.argmax(self.logits, 1), tf.argmax(self.Y, 1))\n",
    "        self.accuracy = tf.reduce_mean(tf.cast(correct_prediction, tf.float32))\n",
    "    \n",
    "    def train(self, x_data, y_data, training = True) :\n",
    "        return self.sess.run([self.cost, self.optimizer], feed_dict = {self.X : x_data, self.Y : y_data, self.training : training})\n",
    "    \n",
    "    def predict(self, x_test, training = False) :\n",
    "        return self.sess.run(self.logits, feed_dict = {self.X : x_test, self.training : training})\n",
    "    \n",
    "    def get_accuracy(self, x_test, y_test, training = False) :\n",
    "        return self.sess.run(self.accuracy, feed_dict = {self.X : x_test, self.Y : y_test, self.training : training})"
   ]
  },
  {
   "cell_type": "code",
   "execution_count": 27,
   "metadata": {},
   "outputs": [],
   "source": [
    "tf.reset_default_graph()"
   ]
  },
  {
   "cell_type": "code",
   "execution_count": 28,
   "metadata": {},
   "outputs": [],
   "source": [
    "# initialize\n",
    "sess = tf.Session()\n",
    "\n",
    "models = []\n",
    "num_models = 2\n",
    "for m in range(num_models) :\n",
    "    models.append(Model(sess, \"model\"+str(m)))\n",
    "# print(models)"
   ]
  },
  {
   "cell_type": "code",
   "execution_count": 29,
   "metadata": {},
   "outputs": [
    {
     "name": "stdout",
     "output_type": "stream",
     "text": [
      "Learning Started!\n",
      "Epoch: 0001 cost = [0.27920389 0.27820183]\n",
      "Epoch: 0002 cost = [0.08658006 0.08701599]\n",
      "Epoch: 0003 cost = [0.06789637 0.06804895]\n",
      "Epoch: 0004 cost = [0.0562183  0.05426845]\n",
      "Epoch: 0005 cost = [0.05184626 0.05000754]\n",
      "Epoch: 0006 cost = [0.04414639 0.04671458]\n",
      "Epoch: 0007 cost = [0.03975264 0.04049615]\n",
      "Epoch: 0008 cost = [0.03781174 0.0387194 ]\n",
      "Epoch: 0009 cost = [0.03531226 0.03632418]\n",
      "Epoch: 0010 cost = [0.03329245 0.03387006]\n",
      "Epoch: 0011 cost = [0.03121701 0.03087787]\n",
      "Epoch: 0012 cost = [0.02896714 0.0326848 ]\n",
      "Epoch: 0013 cost = [0.02918668 0.02885621]\n",
      "Epoch: 0014 cost = [0.02814424 0.02729278]\n",
      "Epoch: 0015 cost = [0.02699725 0.02767275]\n",
      "Epoch: 0016 cost = [0.02564023 0.025902  ]\n",
      "Epoch: 0017 cost = [0.0244164  0.02463543]\n",
      "Epoch: 0018 cost = [0.02335709 0.02405535]\n",
      "Epoch: 0019 cost = [0.02327606 0.02499528]\n",
      "Epoch: 0020 cost = [0.02189595 0.02200428]\n",
      "Learning Finished!\n"
     ]
    }
   ],
   "source": [
    "sess.run(tf.global_variables_initializer())\n",
    "\n",
    "print('Learning Started!')\n",
    "\n",
    "# train my model\n",
    "for epoch in range(training_epochs) :\n",
    "    avg_cost_list = np.zeros(len(models))\n",
    "    total_batch = int(mnist.train.num_examples / batch_size)\n",
    "    for i in range(total_batch) :\n",
    "        batch_xs, batch_ys = mnist.train.next_batch(batch_size)\n",
    "        \n",
    "        # train each model\n",
    "        for m_idx, m in enumerate(models) :\n",
    "            c, _ = m.train(batch_xs, batch_ys)\n",
    "            avg_cost_list[m_idx] += c / total_batch\n",
    "    \n",
    "    print('Epoch:', '%04d' % (epoch + 1), 'cost =', avg_cost_list)\n",
    "    \n",
    "print('Learning Finished!')"
   ]
  },
  {
   "cell_type": "code",
   "execution_count": 30,
   "metadata": {},
   "outputs": [
    {
     "name": "stdout",
     "output_type": "stream",
     "text": [
      "0 Accuracy :  0.9948\n",
      "p :  [[-16.83276     -4.3433867   -6.305209   ...  17.781023    -9.463876\n",
      "   -0.38113874]\n",
      " [  0.08764616  -3.8498147   18.129852   ...  -8.517834    -6.573365\n",
      "  -10.709008  ]\n",
      " [ -7.5381103   11.227948    -8.901385   ...  -2.851072    -2.3880227\n",
      "   -8.338399  ]\n",
      " ...\n",
      " [-19.449745    -5.48444    -13.535196   ...  -9.380554    -2.2992592\n",
      "   -3.6047192 ]\n",
      " [ -8.767304   -11.428932   -15.997544   ... -10.307148     3.0833423\n",
      "   -7.2274513 ]\n",
      " [ -3.6613443   -9.346063    -7.339178   ... -13.949722    -2.2441142\n",
      "  -12.740422  ]]\n",
      "1 Accuracy :  0.9944\n",
      "p :  [[-10.293297    -5.6503806   -4.9163756  ...  15.143787    -5.0571413\n",
      "    0.47687152]\n",
      " [ -2.4508305   -1.6520817   21.44017    ...  -4.9495535  -11.431305\n",
      "   -7.2280774 ]\n",
      " [ -5.372742    10.00151     -7.307794   ...  -4.0393357   -1.9693264\n",
      "   -7.3044972 ]\n",
      " ...\n",
      " [-19.944275    -5.9947953  -12.991423   ...  -8.954208    -3.872554\n",
      "   -4.437444  ]\n",
      " [-12.038458   -13.284518   -15.975221   ... -16.863405     2.5544565\n",
      "   -7.0758777 ]\n",
      " [ -3.0430996  -10.814011    -7.984967   ... -18.746288    -3.169345\n",
      "  -13.256389  ]]\n",
      "Ensemble accuracy :  0.9957\n"
     ]
    }
   ],
   "source": [
    "# Test model and check accuracy\n",
    "test_size = len(mnist.test.labels)\n",
    "predictions = np.zeros([test_size, 10])\n",
    "for m_idx, m in enumerate(models) :\n",
    "    print(m_idx, 'Accuracy : ', m.get_accuracy(mnist.test.images, mnist.test.labels))\n",
    "    p = m.predict(mnist.test.images)\n",
    "    print('p : ', p)\n",
    "    predictions += p\n",
    "    \n",
    "ensemble_correct_prediction = tf.equal(tf.argmax(predictions, 1), tf.argmax(mnist.test.labels, 1))\n",
    "ensemble_accuracy = tf.reduce_mean(tf.cast(ensemble_correct_prediction, tf.float32))\n",
    "print('Ensemble accuracy : ', sess.run(ensemble_accuracy))"
   ]
  },
  {
   "cell_type": "code",
   "execution_count": 32,
   "metadata": {},
   "outputs": [
    {
     "data": {
      "text/plain": [
       "array([[-27.12605667,  -9.99376726, -11.2215848 , ...,  32.92481041,\n",
       "        -14.52101707,   0.09573278],\n",
       "       [ -2.3631843 ,  -5.50189638,  39.57002258, ..., -13.4673872 ,\n",
       "        -18.00467014, -17.93708563],\n",
       "       [-12.91085243,  21.22945786, -16.2091794 , ...,  -6.8904078 ,\n",
       "         -4.35734904, -15.64289618],\n",
       "       ...,\n",
       "       [-39.39402008, -11.47923517, -26.52661896, ..., -18.33476257,\n",
       "         -6.17181325,  -8.04216337],\n",
       "       [-20.80576229, -24.71345043, -31.97276497, ..., -27.17055321,\n",
       "          5.63779879, -14.30332899],\n",
       "       [ -6.70444393, -20.16007328, -15.32414532, ..., -32.69601059,\n",
       "         -5.41345906, -25.99681091]])"
      ]
     },
     "execution_count": 32,
     "metadata": {},
     "output_type": "execute_result"
    }
   ],
   "source": [
    "predictions"
   ]
  },
  {
   "cell_type": "code",
   "execution_count": 33,
   "metadata": {},
   "outputs": [
    {
     "data": {
      "text/plain": [
       "<tf.Tensor 'ArgMax_6:0' shape=(10000,) dtype=int64>"
      ]
     },
     "execution_count": 33,
     "metadata": {},
     "output_type": "execute_result"
    }
   ],
   "source": [
    "# tf.argmax(predictions, 1)"
   ]
  },
  {
   "cell_type": "code",
   "execution_count": 31,
   "metadata": {},
   "outputs": [
    {
     "data": {
      "text/plain": [
       "<tf.Tensor 'Equal_2:0' shape=(10000,) dtype=bool>"
      ]
     },
     "execution_count": 31,
     "metadata": {},
     "output_type": "execute_result"
    }
   ],
   "source": [
    "# ensemble_correct_prediction"
   ]
  },
  {
   "cell_type": "code",
   "execution_count": 25,
   "metadata": {},
   "outputs": [],
   "source": [
    "# test_size = len(mnist.test.labels)\n",
    "# print(test_size)\n",
    "# predictions = np.zeros([test_size, 10])\n",
    "# predictions += 3\n",
    "# print(predictions)"
   ]
  },
  {
   "cell_type": "code",
   "execution_count": null,
   "metadata": {},
   "outputs": [],
   "source": []
  },
  {
   "cell_type": "code",
   "execution_count": null,
   "metadata": {},
   "outputs": [],
   "source": []
  }
 ],
 "metadata": {
  "kernelspec": {
   "display_name": "Python 3",
   "language": "python",
   "name": "python3"
  },
  "language_info": {
   "codemirror_mode": {
    "name": "ipython",
    "version": 3
   },
   "file_extension": ".py",
   "mimetype": "text/x-python",
   "name": "python",
   "nbconvert_exporter": "python",
   "pygments_lexer": "ipython3",
   "version": "3.6.5"
  }
 },
 "nbformat": 4,
 "nbformat_minor": 2
}
