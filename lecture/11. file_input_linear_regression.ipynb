{
 "cells": [
  {
   "cell_type": "code",
   "execution_count": 1,
   "metadata": {},
   "outputs": [
    {
     "name": "stderr",
     "output_type": "stream",
     "text": [
      "C:\\Users\\User\\Anaconda3\\lib\\site-packages\\h5py\\__init__.py:36: FutureWarning: Conversion of the second argument of issubdtype from `float` to `np.floating` is deprecated. In future, it will be treated as `np.float64 == np.dtype(float).type`.\n",
      "  from ._conv import register_converters as _register_converters\n"
     ]
    }
   ],
   "source": [
    "import tensorflow as tf\n",
    "import numpy as np"
   ]
  },
  {
   "cell_type": "code",
   "execution_count": 2,
   "metadata": {},
   "outputs": [],
   "source": [
    "tf.set_random_seed(777)"
   ]
  },
  {
   "cell_type": "code",
   "execution_count": 3,
   "metadata": {},
   "outputs": [],
   "source": [
    "xy = np.loadtxt('data-01-test-score.csv', delimiter=',', dtype=np.float32)\n",
    "x_data = xy[:, 0:-1]\n",
    "y_data = xy[:, [-1]]"
   ]
  },
  {
   "cell_type": "code",
   "execution_count": 7,
   "metadata": {},
   "outputs": [],
   "source": [
    "# xy"
   ]
  },
  {
   "cell_type": "code",
   "execution_count": 9,
   "metadata": {},
   "outputs": [],
   "source": [
    "# x_data"
   ]
  },
  {
   "cell_type": "code",
   "execution_count": 10,
   "metadata": {},
   "outputs": [],
   "source": [
    "# y_data"
   ]
  },
  {
   "cell_type": "code",
   "execution_count": 8,
   "metadata": {},
   "outputs": [
    {
     "data": {
      "text/plain": [
       "((25, 3), (25, 1))"
      ]
     },
     "execution_count": 8,
     "metadata": {},
     "output_type": "execute_result"
    }
   ],
   "source": [
    "x_data.shape, y_data.shape"
   ]
  },
  {
   "cell_type": "code",
   "execution_count": 11,
   "metadata": {},
   "outputs": [],
   "source": [
    "# placesholders for a tensor that will be always fed\n",
    "X = tf.placeholder(tf.float32, shape=[None, 3])\n",
    "Y = tf.placeholder(tf.float32, shape=[None, 1])"
   ]
  },
  {
   "cell_type": "code",
   "execution_count": 12,
   "metadata": {},
   "outputs": [
    {
     "name": "stdout",
     "output_type": "stream",
     "text": [
      "WARNING:tensorflow:From C:\\Users\\User\\Anaconda3\\lib\\site-packages\\tensorflow\\python\\framework\\op_def_library.py:263: colocate_with (from tensorflow.python.framework.ops) is deprecated and will be removed in a future version.\n",
      "Instructions for updating:\n",
      "Colocations handled automatically by placer.\n"
     ]
    }
   ],
   "source": [
    "W = tf.Variable(tf.random_normal([3, 1]), name = 'weight')\n",
    "b = tf.Variable(tf.random_normal([1]), name = 'bias')"
   ]
  },
  {
   "cell_type": "code",
   "execution_count": 13,
   "metadata": {},
   "outputs": [],
   "source": [
    "# Hypothesis\n",
    "hypothesis = tf.matmul(X, W) + b"
   ]
  },
  {
   "cell_type": "code",
   "execution_count": 14,
   "metadata": {},
   "outputs": [],
   "source": [
    "# Simplified cost/loss function\n",
    "cost = tf.reduce_mean(tf.square(hypothesis - Y))"
   ]
  },
  {
   "cell_type": "code",
   "execution_count": 15,
   "metadata": {},
   "outputs": [],
   "source": [
    "# Minimize\n",
    "optimizer = tf.train.GradientDescentOptimizer(learning_rate = 1e-5)\n",
    "train = optimizer.minimize(cost)"
   ]
  },
  {
   "cell_type": "code",
   "execution_count": null,
   "metadata": {},
   "outputs": [],
   "source": []
  },
  {
   "cell_type": "code",
   "execution_count": 19,
   "metadata": {},
   "outputs": [
    {
     "name": "stdout",
     "output_type": "stream",
     "text": [
      "0 Cost :  21027.002 \n",
      "Prediction : \n",
      " [[22.048063 ]\n",
      " [21.619787 ]\n",
      " [24.096693 ]\n",
      " [22.293005 ]\n",
      " [18.633902 ]\n",
      " [ 7.2669735]\n",
      " [12.33103  ]\n",
      " [ 3.150511 ]\n",
      " [14.347944 ]\n",
      " [ 4.2534237]\n",
      " [14.485708 ]\n",
      " [10.678068 ]\n",
      " [28.80464  ]\n",
      " [29.298803 ]\n",
      " [11.237837 ]\n",
      " [18.646544 ]\n",
      " [31.189451 ]\n",
      " [13.344664 ]\n",
      " [28.841742 ]\n",
      " [25.66281  ]\n",
      " [15.084761 ]\n",
      " [16.798368 ]\n",
      " [15.924551 ]\n",
      " [31.36112  ]\n",
      " [24.986364 ]]\n",
      "1000 Cost :  46.33358 \n",
      "Prediction : \n",
      " [[155.79349]\n",
      " [185.46013]\n",
      " [183.79823]\n",
      " [197.92882]\n",
      " [142.94724]\n",
      " [101.91647]\n",
      " [145.47525]\n",
      " [104.10523]\n",
      " [170.27351]\n",
      " [152.73247]\n",
      " [141.92949]\n",
      " [138.35954]\n",
      " [192.1013 ]\n",
      " [162.8083 ]\n",
      " [145.64487]\n",
      " [186.24963]\n",
      " [157.22314]\n",
      " [173.4941 ]\n",
      " [183.77397]\n",
      " [164.26617]\n",
      " [171.05286]\n",
      " [171.97366]\n",
      " [163.87851]\n",
      " [162.25095]\n",
      " [193.49663]]\n",
      "2000 Cost :  24.722479 \n",
      "Prediction : \n",
      " [[154.42892]\n",
      " [185.5586 ]\n",
      " [182.90646]\n",
      " [198.08952]\n",
      " [142.52043]\n",
      " [103.55179]\n",
      " [146.7915 ]\n",
      " [106.70152]\n",
      " [172.15207]\n",
      " [157.13037]\n",
      " [142.55319]\n",
      " [140.17581]\n",
      " [190.05005]\n",
      " [159.59952]\n",
      " [147.35217]\n",
      " [187.2683 ]\n",
      " [153.33151]\n",
      " [175.38618]\n",
      " [181.37059]\n",
      " [162.1332 ]\n",
      " [172.44305]\n",
      " [173.06041]\n",
      " [164.73372]\n",
      " [158.24257]\n",
      " [192.79166]]\n"
     ]
    }
   ],
   "source": [
    "# Launch the graph in a session\n",
    "sess = tf.Session()\n",
    "sess.run(tf.global_variables_initializer())\n",
    "\n",
    "for step in range(2001) :\n",
    "    cost_val, hy_val, _ = sess.run([cost, hypothesis, train], \n",
    "                                   feed_dict = {X : x_data, Y : y_data})\n",
    "    \n",
    "    if step % 1000 == 0 :\n",
    "        print(step, \"Cost : \", cost_val, \"\\nPrediction : \\n\", hy_val)\n",
    "        \n",
    "# 2000 Cost :  24.722479 \n",
    "# Prediction : \n",
    "#  [[154.42892]\n",
    "#  [185.5586 ]\n",
    "#  [182.90646]\n",
    "#  [198.08952]\n",
    "#  [142.52043]\n",
    "#  [103.55179]\n",
    "#  [146.7915 ]\n",
    "#  [106.70152]\n",
    "#  [172.15207]\n",
    "#  [157.13037]\n",
    "#  [142.55319]\n",
    "#  [140.17581]\n",
    "#  [190.05005]\n",
    "#  [159.59952]\n",
    "#  [147.35217]\n",
    "#  [187.2683 ]\n",
    "#  [153.33151]\n",
    "#  [175.38618]\n",
    "#  [181.37059]\n",
    "#  [162.1332 ]\n",
    "#  [172.44305]\n",
    "#  [173.06041]\n",
    "#  [164.73372]\n",
    "#  [158.24257]\n",
    "#  [192.79166]]"
   ]
  },
  {
   "cell_type": "code",
   "execution_count": 18,
   "metadata": {},
   "outputs": [
    {
     "name": "stdout",
     "output_type": "stream",
     "text": [
      "0 Cost :  21027.002 \n",
      "Prediction : \n",
      " [[22.048063 ]\n",
      " [21.619787 ]\n",
      " [24.096693 ]\n",
      " [22.293005 ]\n",
      " [18.633902 ]\n",
      " [ 7.2669735]\n",
      " [12.33103  ]\n",
      " [ 3.150511 ]\n",
      " [14.347944 ]\n",
      " [ 4.2534237]\n",
      " [14.485708 ]\n",
      " [10.678068 ]\n",
      " [28.80464  ]\n",
      " [29.298803 ]\n",
      " [11.237837 ]\n",
      " [18.646544 ]\n",
      " [31.189451 ]\n",
      " [13.344664 ]\n",
      " [28.841742 ]\n",
      " [25.66281  ]\n",
      " [15.084761 ]\n",
      " [16.798368 ]\n",
      " [15.924551 ]\n",
      " [31.36112  ]\n",
      " [24.986364 ]]\n",
      "1000 Cost :  46.33358 \n",
      "Prediction : \n",
      " [[155.79349]\n",
      " [185.46013]\n",
      " [183.79823]\n",
      " [197.92882]\n",
      " [142.94724]\n",
      " [101.91647]\n",
      " [145.47525]\n",
      " [104.10523]\n",
      " [170.27351]\n",
      " [152.73247]\n",
      " [141.92949]\n",
      " [138.35954]\n",
      " [192.1013 ]\n",
      " [162.8083 ]\n",
      " [145.64487]\n",
      " [186.24963]\n",
      " [157.22314]\n",
      " [173.4941 ]\n",
      " [183.77397]\n",
      " [164.26617]\n",
      " [171.05286]\n",
      " [171.97366]\n",
      " [163.87851]\n",
      " [162.25095]\n",
      " [193.49663]]\n",
      "2000 Cost :  24.722479 \n",
      "Prediction : \n",
      " [[154.42892]\n",
      " [185.5586 ]\n",
      " [182.90646]\n",
      " [198.08952]\n",
      " [142.52043]\n",
      " [103.55179]\n",
      " [146.7915 ]\n",
      " [106.70152]\n",
      " [172.15207]\n",
      " [157.13037]\n",
      " [142.55319]\n",
      " [140.17581]\n",
      " [190.05005]\n",
      " [159.59952]\n",
      " [147.35217]\n",
      " [187.2683 ]\n",
      " [153.33151]\n",
      " [175.38618]\n",
      " [181.37059]\n",
      " [162.1332 ]\n",
      " [172.44305]\n",
      " [173.06041]\n",
      " [164.73372]\n",
      " [158.24257]\n",
      " [192.79166]]\n",
      "3000 Cost :  15.039162 \n",
      "Prediction : \n",
      " [[153.63275]\n",
      " [185.52725]\n",
      " [182.33676]\n",
      " [198.22313]\n",
      " [142.10425]\n",
      " [104.51659]\n",
      " [147.75331]\n",
      " [108.59205]\n",
      " [173.2588 ]\n",
      " [159.90512]\n",
      " [142.9812 ]\n",
      " [141.2954 ]\n",
      " [188.70454]\n",
      " [157.46344]\n",
      " [148.54012]\n",
      " [187.87003]\n",
      " [150.66821]\n",
      " [176.80267]\n",
      " [179.82532]\n",
      " [160.78732]\n",
      " [173.4355 ]\n",
      " [173.70831]\n",
      " [165.38637]\n",
      " [155.6779 ]\n",
      " [192.25797]]\n"
     ]
    }
   ],
   "source": [
    "# Launch the graph in a session\n",
    "sess = tf.Session()\n",
    "sess.run(tf.global_variables_initializer())\n",
    "\n",
    "for step in range(3001) :\n",
    "    cost_val, hy_val, _ = sess.run([cost, hypothesis, train], \n",
    "                                   feed_dict = {X : x_data, Y : y_data})\n",
    "    \n",
    "    if step % 1000 == 0 :\n",
    "        print(step, \"Cost : \", cost_val, \"\\nPrediction : \\n\", hy_val)\n",
    "        \n",
    "# 3000 Cost :  15.039162 \n",
    "# Prediction : \n",
    "#  [[153.63275]\n",
    "#  [185.52725]\n",
    "#  [182.33676]\n",
    "#  [198.22313]\n",
    "#  [142.10425]\n",
    "#  [104.51659]\n",
    "#  [147.75331]\n",
    "#  [108.59205]\n",
    "#  [173.2588 ]\n",
    "#  [159.90512]\n",
    "#  [142.9812 ]\n",
    "#  [141.2954 ]\n",
    "#  [188.70454]\n",
    "#  [157.46344]\n",
    "#  [148.54012]\n",
    "#  [187.87003]\n",
    "#  [150.66821]\n",
    "#  [176.80267]\n",
    "#  [179.82532]\n",
    "#  [160.78732]\n",
    "#  [173.4355 ]\n",
    "#  [173.70831]\n",
    "#  [165.38637]\n",
    "#  [155.6779 ]\n",
    "#  [192.25797]]"
   ]
  },
  {
   "cell_type": "code",
   "execution_count": 20,
   "metadata": {},
   "outputs": [
    {
     "name": "stdout",
     "output_type": "stream",
     "text": [
      "[[181.73277]]\n",
      "[[145.86266]\n",
      " [187.2313 ]]\n"
     ]
    }
   ],
   "source": [
    "print(sess.run(hypothesis, feed_dict = {X : [[100, 70, 101]]}))\n",
    "print(sess.run(hypothesis, feed_dict = {X : [[60, 70, 110], [90, 100, 80]]}))"
   ]
  }
 ],
 "metadata": {
  "kernelspec": {
   "display_name": "Python 3",
   "language": "python",
   "name": "python3"
  },
  "language_info": {
   "codemirror_mode": {
    "name": "ipython",
    "version": 3
   },
   "file_extension": ".py",
   "mimetype": "text/x-python",
   "name": "python",
   "nbconvert_exporter": "python",
   "pygments_lexer": "ipython3",
   "version": "3.6.5"
  }
 },
 "nbformat": 4,
 "nbformat_minor": 2
}
