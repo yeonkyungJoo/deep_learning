{
 "cells": [
  {
   "cell_type": "markdown",
   "metadata": {},
   "source": [
    "### 케라스의 레이어(Layer) 객체"
   ]
  },
  {
   "cell_type": "markdown",
   "metadata": {},
   "source": [
    "#### 1. 케라스 레이어"
   ]
  },
  {
   "cell_type": "markdown",
   "metadata": {},
   "source": [
    "#### 2. 드롭아웃(Dropout) 레이어\n",
    "- 입력값 중에서 일정 비율(rate)만큼 임의로 선택하고, 선택한 입력값을 강제로 0으로 설정함으로써 유닛의 무효화 처리 구현"
   ]
  },
  {
   "cell_type": "code",
   "execution_count": 1,
   "metadata": {},
   "outputs": [
    {
     "name": "stderr",
     "output_type": "stream",
     "text": [
      "C:\\Users\\User\\Anaconda3\\lib\\site-packages\\h5py\\__init__.py:36: FutureWarning: Conversion of the second argument of issubdtype from `float` to `np.floating` is deprecated. In future, it will be treated as `np.float64 == np.dtype(float).type`.\n",
      "  from ._conv import register_converters as _register_converters\n"
     ]
    },
    {
     "name": "stdout",
     "output_type": "stream",
     "text": [
      "WARNING:tensorflow:From C:\\Users\\User\\Anaconda3\\lib\\site-packages\\tensorflow\\python\\ops\\resource_variable_ops.py:435: colocate_with (from tensorflow.python.framework.ops) is deprecated and will be removed in a future version.\n",
      "Instructions for updating:\n",
      "Colocations handled automatically by placer.\n",
      "WARNING:tensorflow:From C:\\Users\\User\\Anaconda3\\lib\\site-packages\\tensorflow\\python\\keras\\layers\\core.py:143: calling dropout (from tensorflow.python.ops.nn_ops) with keep_prob is deprecated and will be removed in a future version.\n",
      "Instructions for updating:\n",
      "Please use `rate` instead of `keep_prob`. Rate should be set to `rate = 1 - keep_prob`.\n"
     ]
    }
   ],
   "source": [
    "# 드롭아웃 레이어 사용 예\n",
    "\n",
    "# 드롭아웃 레이어를 포함하는 Sequential 모델 예제\n",
    "from tensorflow.python.keras.models import Sequential\n",
    "from tensorflow.python.keras.layers import Dense, Dropout\n",
    "\n",
    "model = Sequential()\n",
    "model.add(Dense(64, activation = 'relu', input_dim = 20))\n",
    "# Dropout을 rate = 0.5로 적용\n",
    "model.add(Dropout(0.5))\n",
    "model.add(Dense(64, activation = 'relu'))\n",
    "model.add(Dropout(0.5))\n",
    "model.add(Dense(10, activation = 'softmax'))\n",
    "\n",
    "model.compile(\n",
    "    loss = 'categorical_crossentropy',\n",
    "    optimizer = 'SGD',\n",
    "    metrics = ['accuracy']\n",
    ")"
   ]
  },
  {
   "cell_type": "markdown",
   "metadata": {},
   "source": [
    "#### 3. BatchNormalization(배치정규화) 레이어\n",
    "- 배치마다 다음 레이어로의 입력값을 정규화"
   ]
  },
  {
   "cell_type": "code",
   "execution_count": 2,
   "metadata": {},
   "outputs": [],
   "source": [
    "# BatchNormalization 레이어 사용 예\n",
    "\n",
    "# BatchNormalization 층을 포함하는 Sequential 모델 예제\n",
    "from tensorflow.python.keras.models import Sequential\n",
    "from tensorflow.python.keras.layers import Dense, Activation, BatchNormalization\n",
    "\n",
    "model = Sequential()\n",
    "model.add(Dense(64, input_dim=20))\n",
    "model.add(BatchNormalization())\n",
    "model.add(Activation('relu'))\n",
    "model.add(Dense(64))\n",
    "model.add(BatchNormalization())\n",
    "model.add(Activation('relu'))\n",
    "model.add(Dense(10, activation = 'softmax'))\n",
    "\n",
    "model.compile(\n",
    "    loss = 'categorical_crossentropy',\n",
    "    optimizer = 'SGD',\n",
    "    metrics = ['accuracy']\n",
    ")"
   ]
  },
  {
   "cell_type": "markdown",
   "metadata": {},
   "source": [
    "#### 4. Lambda(람다) 레이어\n",
    "- 임의의 식과 함수를 케라스 레이어 객체로 네트워크에 추가"
   ]
  },
  {
   "cell_type": "code",
   "execution_count": 3,
   "metadata": {},
   "outputs": [],
   "source": [
    "# Lambda 레이어 사용 예\n",
    "\n",
    "# Lambda 레이어 사용 예제\n",
    "from tensorflow.python.keras.models import Model\n",
    "from tensorflow.python.keras.layers import Input, Lambda\n",
    "\n",
    "model_in = Input(shape = (20, ))\n",
    "# 모든 입력값을 255로 나누는 변환\n",
    "x = Lambda(lambda x : x/255.)(model_in)\n",
    "x = Dense(64, activation = 'relu')(x)\n",
    "model_out = Dense(10, activation = 'softmax')(x)\n",
    "\n",
    "model = Model(inputs = model_in, outputs = model_out)\n",
    "model.compile(\n",
    "    loss = 'categorical_crossentropy',\n",
    "    optimizer = 'SGD',\n",
    "    metrics = ['accuracy']\n",
    ")"
   ]
  },
  {
   "cell_type": "code",
   "execution_count": null,
   "metadata": {},
   "outputs": [],
   "source": []
  },
  {
   "cell_type": "markdown",
   "metadata": {},
   "source": [
    "### 활성화 함수(Activation)"
   ]
  },
  {
   "cell_type": "markdown",
   "metadata": {},
   "source": [
    "- 케라스에서 활성화 함수를 추가하는 방법\n",
    "    - 레이어 객체에서 activation의 인수로 지정하는 방법\n",
    "    - 별도로 개별 Activation 레이어를 호출해서 명시적으로 네트워크에 추가하는 방법"
   ]
  },
  {
   "cell_type": "code",
   "execution_count": 4,
   "metadata": {},
   "outputs": [],
   "source": [
    "# 1) 레이어의 인수를 사용해서 활성화 함수를 추가하는 예\n",
    "\n",
    "# Dense 레이어의 인수로 relu와 시그모이드를 지정해서 활성화 함수를 추가\n",
    "model = Sequential()\n",
    "model.add(Dense(64, activation = 'relu', input_dim = 20))\n",
    "model.add(Dense(1, activation='sigmoid'))\n",
    "model.compile(\n",
    "    loss = 'binary_crossentropy',\n",
    "    optimizer = 'SGD',\n",
    "    metrics = ['accuracy']\n",
    ")"
   ]
  },
  {
   "cell_type": "code",
   "execution_count": 5,
   "metadata": {},
   "outputs": [],
   "source": [
    "# 2) Activation 레이어를 호출해서 활성화 함수를 생성/추가하는 예\n",
    "\n",
    "# Activation 레이어를 호출해서 별도로 활성화 층을 추가\n",
    "from tensorflow.python.keras.layers import Activation\n",
    "from tensorflow.python.keras.activations import relu\n",
    "\n",
    "model = Sequential()\n",
    "model.add(Dense(64, input_dim=20))\n",
    "model.add(Activation('relu'))\n",
    "model.add(Dense(1))\n",
    "model.add(Activation('sigmoid'))\n",
    "\n",
    "model.compile(\n",
    "    loss = 'binary_crossentropy',\n",
    "    optimizer = 'SGD',\n",
    "    metrics = ['accuracy']\n",
    ")"
   ]
  },
  {
   "cell_type": "code",
   "execution_count": null,
   "metadata": {},
   "outputs": [],
   "source": []
  },
  {
   "cell_type": "markdown",
   "metadata": {},
   "source": [
    "#### ReLU(Rectified Linear Unit)\n",
    "- 입력값이 0 이하인 경우에는 0, 0보다 큰 경우에는 입력값을 그대로 출력\n",
    "- 시그모이드 함수는 입력값이 커질수록 경사가 작아졌지만, ReLU는 일정하기 때문에 경사 소실 문제를 완화할 수 있다"
   ]
  },
  {
   "cell_type": "markdown",
   "metadata": {},
   "source": [
    "#### LeakyReLU\n",
    "- 유닛이 활성화되지 않을 때(x<=0)에도 아주 작은 경사를 가진다\n",
    "- 이것으로 경사 소실을 방지하고, 학습 속도를 향상시키는 효과를 기대할 수 있다\n",
    "- DCGAN(Deep Convolutional Generative Adversarial Network) 모델에 자주 사용"
   ]
  },
  {
   "cell_type": "markdown",
   "metadata": {},
   "source": [
    "#### ELU(Exponential Linear Unit)\n",
    "- 마이너스의 입력에 대해서 지수 함수에서 1을 뺀 값을 적용"
   ]
  },
  {
   "cell_type": "markdown",
   "metadata": {},
   "source": [
    "#### Clipped ReLU\n",
    "- ReLU의 출력값이 일정 크기 이상이 되지 않도록 변형한 것\n",
    "- 입력에 대해서 출력이 한계가 있는 상태(Clipping) "
   ]
  },
  {
   "cell_type": "code",
   "execution_count": 6,
   "metadata": {},
   "outputs": [],
   "source": [
    "# Clipped ReLU의 예\n",
    "from tensorflow.python.keras.layers import Activation\n",
    "from tensorflow.python.keras.activations import relu\n",
    "\n",
    "model = Sequential()\n",
    "model.add(\n",
    "    Dense(\n",
    "        64,\n",
    "        input_dim = 20,\n",
    "        activation = lambda x : relu(x, max_value = 2)\n",
    "    )\n",
    ")\n",
    "model.add(Dense(1, activation = 'sigmoid'))\n",
    "\n",
    "model.compile(\n",
    "    loss = 'binary_crossentropy',\n",
    "    optimizer = 'SGD',\n",
    "    metrics = ['accuracy']\n",
    ")"
   ]
  },
  {
   "cell_type": "markdown",
   "metadata": {},
   "source": [
    "### ImageDataGenerator\n",
    "- 입력할 이미지를 효율적으로 처리하기 위한 생성기\n",
    "- 전처리를 실시간으로 실시\n",
    "- 미니 배치 크기 단위로 모델에 데이터를 쉽게 전달"
   ]
  },
  {
   "cell_type": "code",
   "execution_count": 9,
   "metadata": {},
   "outputs": [],
   "source": [
    "# 생성기 생성\n",
    "from tensorflow.python.keras.preprocessing.image import ImageDataGenerator\n",
    "\n",
    "# ImageDataGenerator 생성\n",
    "# 대표적인 옵션을 지정한 예\n",
    "gen = ImageDataGenerator(\n",
    "    # 스케일 변환\n",
    "    rescale = 1/255.,\n",
    "    # 데이터 확장 관련\n",
    "    rotation_range = 90.,\n",
    "    width_shift_range = 1.,\n",
    "    height_shift_range = .5,\n",
    "    shear_range = .8,\n",
    "    zoom_range = .5,\n",
    "    horizontal_flip = True,\n",
    "    vertical_flip = True\n",
    ")"
   ]
  },
  {
   "cell_type": "code",
   "execution_count": 11,
   "metadata": {},
   "outputs": [
    {
     "name": "stdout",
     "output_type": "stream",
     "text": [
      "Found 25 images belonging to 2 classes.\n",
      "shape of x_train_batch :  (5, 32, 32, 3)\n",
      "shape of y_train_batch :  (5,)\n"
     ]
    }
   ],
   "source": [
    "# ImageDataGenerator를 생성한 후에는\n",
    "# flow 메서드와 flow_from_directory 메서드를 호출해서\n",
    "# 지정한 처리가 적용된 이미지를 미니 배치 단위로 출력하는 iterator 취득\n",
    "\n",
    "# iterator의 생성과 데이터 취득\n",
    "\n",
    "# 폴더에서 이미지를 읽어들이고, iterator 생성\n",
    "iters = gen.flow_from_directory(\n",
    "    'img_7',\n",
    "    target_size = (32, 32),\n",
    "    class_mode = 'binary',\n",
    "    batch_size = 5,\n",
    "    shuffle = True\n",
    ")\n",
    "\n",
    "# iterator로부터 1 미니 배치분의 데이터를 취득\n",
    "x_train_batch, y_train_batch = next(iters)\n",
    "\n",
    "print('shape of x_train_batch : ', x_train_batch.shape)\n",
    "print('shape of y_train_batch : ', y_train_batch.shape)"
   ]
  },
  {
   "cell_type": "code",
   "execution_count": 12,
   "metadata": {},
   "outputs": [
    {
     "name": "stdout",
     "output_type": "stream",
     "text": [
      "WARNING:tensorflow:From C:\\Users\\User\\Anaconda3\\lib\\site-packages\\tensorflow\\python\\ops\\math_ops.py:3066: to_int32 (from tensorflow.python.ops.math_ops) is deprecated and will be removed in a future version.\n",
      "Instructions for updating:\n",
      "Use tf.cast instead.\n",
      "5/5 [==============================] - 7s 1s/step - loss: 2.7339\n"
     ]
    },
    {
     "data": {
      "text/plain": [
       "<tensorflow.python.keras.callbacks.History at 0x1b87fb0f400>"
      ]
     },
     "execution_count": 12,
     "metadata": {},
     "output_type": "execute_result"
    }
   ],
   "source": [
    "# iterator를 이용한 모델 학습\n",
    "import math\n",
    "from tensorflow.python.keras.models import Sequential\n",
    "from tensorflow.python.keras.layers import Flatten, Dense, Conv2D\n",
    "\n",
    "# 분류용 모델 구축\n",
    "model = Sequential()\n",
    "model.add(Conv2D(16, (3, 3), input_shape=(32, 32, 3)))\n",
    "model.add(Flatten())\n",
    "model.add(Dense(32, activation='relu'))\n",
    "model.add(Dense(1, activation='sigmoid'))\n",
    "\n",
    "model.compile(\n",
    "    loss = 'binary_crossentropy',\n",
    "    optimizer = 'rmsprop'\n",
    ")\n",
    "\n",
    "# 몇 미니 배치를 학습하면 1에폭인지 계산\n",
    "steps_per_epoch = math.ceil(iters.samples/5)\n",
    "\n",
    "# fit_generator 메서드에 iterator 전달\n",
    "model.fit_generator(\n",
    "    iters,\n",
    "    steps_per_epoch = steps_per_epoch\n",
    ")"
   ]
  },
  {
   "cell_type": "code",
   "execution_count": null,
   "metadata": {},
   "outputs": [],
   "source": []
  },
  {
   "cell_type": "code",
   "execution_count": null,
   "metadata": {},
   "outputs": [],
   "source": []
  },
  {
   "cell_type": "code",
   "execution_count": null,
   "metadata": {},
   "outputs": [],
   "source": []
  },
  {
   "cell_type": "code",
   "execution_count": null,
   "metadata": {},
   "outputs": [],
   "source": []
  },
  {
   "cell_type": "code",
   "execution_count": null,
   "metadata": {},
   "outputs": [],
   "source": []
  },
  {
   "cell_type": "code",
   "execution_count": null,
   "metadata": {},
   "outputs": [],
   "source": []
  }
 ],
 "metadata": {
  "kernelspec": {
   "display_name": "Python 3",
   "language": "python",
   "name": "python3"
  },
  "language_info": {
   "codemirror_mode": {
    "name": "ipython",
    "version": 3
   },
   "file_extension": ".py",
   "mimetype": "text/x-python",
   "name": "python",
   "nbconvert_exporter": "python",
   "pygments_lexer": "ipython3",
   "version": "3.6.5"
  }
 },
 "nbformat": 4,
 "nbformat_minor": 2
}
